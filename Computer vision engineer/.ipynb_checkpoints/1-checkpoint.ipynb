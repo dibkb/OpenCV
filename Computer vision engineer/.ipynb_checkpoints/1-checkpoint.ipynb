{
 "cells": [
  {
   "cell_type": "code",
   "execution_count": 14,
   "id": "cea7ddd1-b4da-4ef4-b32d-e223afa9512a",
   "metadata": {},
   "outputs": [],
   "source": [
    "import cv2\n",
    "import matplotlib.pyplot as plt"
   ]
  },
  {
   "cell_type": "code",
   "execution_count": 9,
   "id": "ddb1d28d-f2d9-457a-a355-4d552d443e28",
   "metadata": {},
   "outputs": [],
   "source": [
    "img = cv2.imread(\"parrot.jpeg\")"
   ]
  },
  {
   "cell_type": "code",
   "execution_count": null,
   "id": "fe95d418-11b8-4825-a70d-aa3ce732f15e",
   "metadata": {},
   "outputs": [],
   "source": [
    "%matplotlib inline\n",
    "def plotimage(img):\n",
    "    print(\"Dimension of image\", img.shape)\n",
    "    plt.imshow(cv2.cvtColor(img, cv2.COLOR_BGR2RGB))\n",
    "    plt.show()"
   ]
  },
  {
   "cell_type": "code",
   "execution_count": null,
   "id": "22612a03-6cee-4498-834d-223822870ba0",
   "metadata": {},
   "outputs": [],
   "source": [
    "plotimage(img)"
   ]
  },
  {
   "cell_type": "code",
   "execution_count": null,
   "id": "479c748a-507a-4586-9374-517659e0b7a6",
   "metadata": {},
   "outputs": [],
   "source": []
  },
  {
   "cell_type": "code",
   "execution_count": null,
   "id": "23612d8a-70d3-4921-a803-8360d7f5ecf7",
   "metadata": {},
   "outputs": [],
   "source": []
  }
 ],
 "metadata": {
  "kernelspec": {
   "display_name": "Python 3 (ipykernel)",
   "language": "python",
   "name": "python3"
  },
  "language_info": {
   "codemirror_mode": {
    "name": "ipython",
    "version": 3
   },
   "file_extension": ".py",
   "mimetype": "text/x-python",
   "name": "python",
   "nbconvert_exporter": "python",
   "pygments_lexer": "ipython3",
   "version": "3.11.5"
  }
 },
 "nbformat": 4,
 "nbformat_minor": 5
}
